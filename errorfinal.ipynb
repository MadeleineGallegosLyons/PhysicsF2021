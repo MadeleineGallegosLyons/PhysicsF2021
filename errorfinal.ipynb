{
 "cells": [
  {
   "cell_type": "code",
   "execution_count": 42,
   "id": "70ce584f",
   "metadata": {},
   "outputs": [
    {
     "name": "stdout",
     "output_type": "stream",
     "text": [
      "Rule 1: If Q = cA where c is a constant (or a quantity with negligible uncertainty), /n then δQ/|Q| = δA/|A| or equivalently δQ = |c|δA\n",
      "Rule 2: If Q = cA^m where c and m are constants, then δQ/|Q| = |m|*(δA/|A|) or equivalently δQ = |cmA^(m−1)|δA\n",
      "Rule 3: If Q = A + B or Q = A − B\n",
      "Rule 4: If Q = cAmBn where c, m, and n are constants, then it's the long one.\n",
      "Standard Deviation: 5 \n",
      "Average: 6 \n",
      "Please type '1', '2', '4', '5', or '6' 3\n",
      "How many terms do you have? 2\n",
      "enter the uncertainty0.0005\n",
      "enter the uncertainty0.23\n",
      "the uncertainty of this equation is:  0.23000054347761878\n"
     ]
    }
   ],
   "source": [
    "import numpy as np\n",
    "import math\n",
    "\n",
    "def rule1():\n",
    "    constant = float(input('enter constant or quantity with negligible uncertainty: '))\n",
    "    quantityA = float(input('enter measurement A: '))\n",
    "    uncertainty_in_A = float(input('enter uncertainty of measurement A: '))\n",
    "    print('the uncertainty of this equation is ', constant*uncertainty_in_A)\n",
    "\n",
    "def rule2(terms):\n",
    "    expression = 0\n",
    "    print(\"No constant needed\")\n",
    "    for x in range(terms):\n",
    "        exponent = float(input('enter the exponent: '))\n",
    "        quantity = float(input('enter measurement: '))\n",
    "        uncertainty = float(input('enter uncertainty: '))\n",
    "        expression += exponent*(uncertainty/quantity)\n",
    "    print('the uncertainty of this equation is ', expression) \n",
    "\n",
    "def rule3(terms):\n",
    "    expression = 0\n",
    "    for x in range(terms):\n",
    "        uncertainty = float(input('enter the uncertainty'))**2\n",
    "        expression += uncertainty \n",
    "    print('the uncertainty of this equation is: ', math.sqrt(expression))\n",
    "        \n",
    "    \n",
    "     \n",
    "def rule4(terms):\n",
    "    print(\"No constant needed\")\n",
    "    for x in range(terms):\n",
    "        Quantity = float(input('enter measurement: '))\n",
    "        uncertainty = float(input('enter uncertainty of measurement: '))\n",
    "        exponent = float(input('enter exponent for term: '))        \n",
    "        expression += exponent*(uncertainty/quantity)**2\n",
    "    print('the uncertainty of this equation is ', math.sqrt(expression))\n",
    "    \n",
    "def stdev(list):\n",
    "    data = np.array((list).split())\n",
    "    floatdata = [float(x) for x in data]\n",
    "    result = np.std(floatdata)\n",
    "    print(\"The standard deviation for the data is\", result)\n",
    "    \n",
    "def avg(list):\n",
    "    data = np.array((list).split())\n",
    "    floatdata = [float(x) for x in data]\n",
    "    result = np.average(floatdata)\n",
    "    print(\"The average or mean for the data is\", result)\n",
    "    \n",
    "def choose_rule(selection):\n",
    "    if selection == '1':\n",
    "        rule1()\n",
    "    elif selection == '2':\n",
    "        rule2(int(input('How many terms do you have? ')))\n",
    "    elif selection == '3':\n",
    "        rule3(int(input('How many terms do you have? ')))\n",
    "    elif selection == '4':\n",
    "        rule4(int(input('How many terms do you have? ')))\n",
    "    elif selection == '5':\n",
    "        stdev(input(\"enter data separated by spaces \"))\n",
    "    elif selection == '6':\n",
    "        avg(input(\"Enter data separated by spaces \"))\n",
    "\n",
    "def main():\n",
    "    print(\"Rule 1: If Q = cA where c is a constant (or a quantity with negligible uncertainty), /n then δQ/|Q| = δA/|A| or equivalently δQ = |c|δA\")\n",
    "    print(\"Rule 2: If Q = cA^m where c and m are constants, then δQ/|Q| = |m|*(δA/|A|) or equivalently δQ = |cmA^(m−1)|δA\")\n",
    "    print(\"Rule 3: If Q = A + B or Q = A − B\")\n",
    "    print(\"Rule 4: If Q = cAmBn where c, m, and n are constants, then it's the long one.\")\n",
    "    print(\"Standard Deviation: 5 \")\n",
    "    print(\"Average: 6 \")\n",
    "    choose_rule(input(\"Please type '1', '2', '4', '5', or '6' \"))\n",
    "\n",
    "if __name__ == \"__main__\":\n",
    "    main()\n",
    "\n",
    "    "
   ]
  },
  {
   "cell_type": "markdown",
   "id": "2f93fa52",
   "metadata": {},
   "source": [
    "$\\delta x  = \\Delta \\sigma $"
   ]
  },
  {
   "cell_type": "code",
   "execution_count": null,
   "id": "cca2310e",
   "metadata": {},
   "outputs": [],
   "source": []
  },
  {
   "cell_type": "code",
   "execution_count": null,
   "id": "19e26fdc",
   "metadata": {},
   "outputs": [],
   "source": []
  },
  {
   "cell_type": "code",
   "execution_count": null,
   "id": "717e2a31",
   "metadata": {},
   "outputs": [],
   "source": []
  }
 ],
 "metadata": {
  "kernelspec": {
   "display_name": "Python 3",
   "language": "python",
   "name": "python3"
  },
  "language_info": {
   "codemirror_mode": {
    "name": "ipython",
    "version": 3
   },
   "file_extension": ".py",
   "mimetype": "text/x-python",
   "name": "python",
   "nbconvert_exporter": "python",
   "pygments_lexer": "ipython3",
   "version": "3.8.8"
  }
 },
 "nbformat": 4,
 "nbformat_minor": 5
}
